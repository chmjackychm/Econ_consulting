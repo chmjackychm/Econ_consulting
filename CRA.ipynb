{
 "cells": [
  {
   "cell_type": "code",
   "execution_count": 91,
   "metadata": {
    "collapsed": true
   },
   "outputs": [],
   "source": [
    "from bs4 import BeautifulSoup\n",
    "from urllib.request import urlopen\n",
    "import pandas as pd\n",
    "import numpy as np"
   ]
  },
  {
   "cell_type": "code",
   "execution_count": 92,
   "metadata": {
    "collapsed": false
   },
   "outputs": [
    {
     "data": {
      "text/plain": [
       "6"
      ]
     },
     "execution_count": 92,
     "metadata": {},
     "output_type": "execute_result"
    }
   ],
   "source": [
    "url_1 = 'http://www.charlesriverassociates.com/search/site?f[0]=bundle%3Aexperts'\n",
    "url = [\"http://www.charlesriverassociates.com/search/site?page=\"+str(i)+\"&f[0]=bundle%3Aexperts\" for i in range(0,5)]\n",
    "url.append(url_1)\n",
    "len(url)"
   ]
  },
  {
   "cell_type": "code",
   "execution_count": 93,
   "metadata": {
    "collapsed": true
   },
   "outputs": [],
   "source": [
    "cra = pd.DataFrame()"
   ]
  },
  {
   "cell_type": "code",
   "execution_count": 101,
   "metadata": {
    "collapsed": false
   },
   "outputs": [],
   "source": [
    "for html in url:\n",
    "    html_page = urlopen(html).read()\n",
    "    soup = BeautifulSoup(html_page, \"html.parser\")\n",
    "    name = soup.findAll('h3',{'class':'title'})\n",
    "    name2 = [n.text for n in name]\n",
    "    #link = [''.join(\"http://www.charlesriverassociates.com\"+ l.find('a').get('href')) for l in name]\n",
    "    position = soup.findAll('div',{'class':'position'})\n",
    "    position2 = [p.text for p in position]\n",
    "    title = [p.split('|')[0].strip() for p in position2]\n",
    "    location = [p.split('|')[1].strip() for p in position2]\n",
    "    x = np.array([name2,title,location],dtype = object)\n",
    "    d = list(map(list, zip(*x)))\n",
    "    p = pd.DataFrame(d)\n",
    "    p.columns = [\"Name\", \"Title\",\"Location\"]\n",
    "    cra =cra.append(p)"
   ]
  },
  {
   "cell_type": "code",
   "execution_count": 102,
   "metadata": {
    "collapsed": false
   },
   "outputs": [],
   "source": [
    "cra = pd.DataFrame.drop_duplicates(cra)\n",
    "writer = pd.ExcelWriter(\"C:/Users/jchen5/Downloads/CRA.xlsx\")\n",
    "cra.to_excel(writer, \"sheet1\", index=False)\n",
    "writer.save()"
   ]
  }
 ],
 "metadata": {
  "kernelspec": {
   "display_name": "Python 3",
   "language": "python",
   "name": "python3"
  },
  "language_info": {
   "codemirror_mode": {
    "name": "ipython",
    "version": 3
   },
   "file_extension": ".py",
   "mimetype": "text/x-python",
   "name": "python",
   "nbconvert_exporter": "python",
   "pygments_lexer": "ipython3",
   "version": "3.4.3"
  }
 },
 "nbformat": 4,
 "nbformat_minor": 0
}
