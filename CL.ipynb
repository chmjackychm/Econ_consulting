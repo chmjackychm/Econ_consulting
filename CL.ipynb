{
 "cells": [
  {
   "cell_type": "code",
   "execution_count": 1,
   "metadata": {
    "collapsed": true
   },
   "outputs": [],
   "source": [
    "from bs4 import BeautifulSoup\n",
    "from urllib.request import urlopen\n",
    "import pandas as pd\n",
    "import numpy as np"
   ]
  },
  {
   "cell_type": "code",
   "execution_count": 4,
   "metadata": {
    "collapsed": false
   },
   "outputs": [],
   "source": [
    "html = urlopen(\n",
    "    \"http://www.compasslexecon.com/professionals/all?Name=&ExpertiseId=&WithTestifyingExperience=false&LocationId=&KeyWord=\").read()\n",
    "soup = BeautifulSoup(html, \"html.parser\")"
   ]
  },
  {
   "cell_type": "code",
   "execution_count": 6,
   "metadata": {
    "collapsed": false
   },
   "outputs": [
    {
     "name": "stdout",
     "output_type": "stream",
     "text": [
      "291\n"
     ]
    }
   ],
   "source": [
    "professional = soup.findAll(\"div\",{\"class\":\"professionals-results-block clearfix\"})\n",
    "print (len(professional))"
   ]
  },
  {
   "cell_type": "code",
   "execution_count": 20,
   "metadata": {
    "collapsed": true
   },
   "outputs": [],
   "source": [
    "name_list = []\n",
    "title_list = []\n",
    "location_list = []\n",
    "practice_list = []\n",
    "link_list = []\n",
    "\n",
    "for pro in professional:\n",
    "    name = ' '.join(pro.find(\"a\", {\"class\": \"pro-results-name\"}).text.split())\n",
    "    title = ' '.join(pro.find('span').text.split())\n",
    "    location = ' '.join(pro.find(\"div\", {\"class\": \"pro-results-location\"}).text.split())\n",
    "    practice = ' '.join(pro.find('div', {'class': 'pro-results-practice'}).text.split())\n",
    "    link = 'http://www.compasslexecon.com' + pro.find('a', {'class': 'pro-results-name'}).get('href')\n",
    "\n",
    "    name_list.append(name)\n",
    "    title_list.append(title)\n",
    "    location_list.append(location)\n",
    "    practice_list.append(practice)\n",
    "    link_list.append(link)"
   ]
  },
  {
   "cell_type": "code",
   "execution_count": 21,
   "metadata": {
    "collapsed": true
   },
   "outputs": [],
   "source": [
    "x = np.array([name_list, title_list, location_list, practice_list, link_list], dtype=object)\n",
    "d = list(map(list, zip(*x)))\n",
    "p = pd.DataFrame(d)\n",
    "p.columns = [\"Name\", \"Title\", \"Location\", \"Practice Area\", 'Page']"
   ]
  },
  {
   "cell_type": "code",
   "execution_count": 22,
   "metadata": {
    "collapsed": false
   },
   "outputs": [
    {
     "name": "stdout",
     "output_type": "stream",
     "text": [
      "                 Name                                              Title  \\\n",
      "0   Daniel R. Fischel                             Chairman and President   \n",
      "1  Jonathan M. Orszag                           Senior Managing Director   \n",
      "2       Jorge Padilla  Senior Managing Director and Head of Compass L...   \n",
      "3      Mark A. Israel                           Senior Managing Director   \n",
      "4   Jonathan B. Baker                                  Senior Consultant   \n",
      "\n",
      "                             Location  \\\n",
      "0                         Chicago, IL   \n",
      "1          Washington, DCNew York, NY   \n",
      "2  Madrid, ESPLondon, UKBrussels, BEL   \n",
      "3                      Washington, DC   \n",
      "4                                       \n",
      "\n",
      "                                       Practice Area  \\\n",
      "0  Damages, ERISA Litigation, International Arbit...   \n",
      "1  Antitrust & Competition, Class Certification, ...   \n",
      "2  Antitrust & Competition, Damages, Energy, Ente...   \n",
      "3  Antitrust & Competition, Class Certification, ...   \n",
      "4        Antitrust & Competition, Telecommunications   \n",
      "\n",
      "                                                Page  \n",
      "0  http://www.compasslexecon.com/professionals/bi...  \n",
      "1  http://www.compasslexecon.com/professionals/bi...  \n",
      "2  http://www.compasslexecon.com/professionals/bi...  \n",
      "3  http://www.compasslexecon.com/professionals/bi...  \n",
      "4  http://www.compasslexecon.com/professionals/bi...  \n"
     ]
    }
   ],
   "source": [
    "print(p.head())"
   ]
  },
  {
   "cell_type": "code",
   "execution_count": null,
   "metadata": {
    "collapsed": true
   },
   "outputs": [],
   "source": []
  }
 ],
 "metadata": {
  "kernelspec": {
   "display_name": "Python 3",
   "language": "python",
   "name": "python3"
  },
  "language_info": {
   "codemirror_mode": {
    "name": "ipython",
    "version": 3
   },
   "file_extension": ".py",
   "mimetype": "text/x-python",
   "name": "python",
   "nbconvert_exporter": "python",
   "pygments_lexer": "ipython3",
   "version": "3.4.3"
  }
 },
 "nbformat": 4,
 "nbformat_minor": 0
}
