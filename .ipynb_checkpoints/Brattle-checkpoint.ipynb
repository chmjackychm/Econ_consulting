{
 "cells": [
  {
   "cell_type": "code",
   "execution_count": 246,
   "metadata": {
    "collapsed": true
   },
   "outputs": [],
   "source": [
    "from bs4 import BeautifulSoup\n",
    "from urllib.request import urlopen\n",
    "import pandas as pd\n",
    "import numpy as np\n",
    "import re\n",
    "from urllib.request import urlretrieve"
   ]
  },
  {
   "cell_type": "code",
   "execution_count": 247,
   "metadata": {
    "collapsed": true
   },
   "outputs": [],
   "source": [
    "import os\n",
    "os.chdir('/Users/Haoming/Dropbox/Brattle')"
   ]
  },
  {
   "cell_type": "code",
   "execution_count": 248,
   "metadata": {
    "collapsed": false
   },
   "outputs": [],
   "source": [
    "html = urlopen('http://www.brattle.com/experts/search?utf8=&post=&expert[name]=&expert[title]=&expert[office]=&expert[keyword]=&expert[practice]=&commit=Search').read()\n",
    "soup = BeautifulSoup(html,\"html.parser\")"
   ]
  },
  {
   "cell_type": "code",
   "execution_count": 249,
   "metadata": {
    "collapsed": false
   },
   "outputs": [
    {
     "data": {
      "text/plain": [
       "184"
      ]
     },
     "execution_count": 249,
     "metadata": {},
     "output_type": "execute_result"
    }
   ],
   "source": [
    "detail = soup.findAll('td',{'class':'details'})\n",
    "len(detail)"
   ]
  },
  {
   "cell_type": "code",
   "execution_count": 264,
   "metadata": {
    "collapsed": false
   },
   "outputs": [
    {
     "name": "stdout",
     "output_type": "stream",
     "text": [
      "name: 184\n",
      "title: 184\n"
     ]
    },
    {
     "data": {
      "text/plain": [
       "['Yeray Perez',\n",
       " 'Martha Rogers',\n",
       " 'Shastri Sandy',\n",
       " 'Akarsh Sheilendranath',\n",
       " 'Jack Stirzaker',\n",
       " 'Haris Tabakovic',\n",
       " 'Mike Tolleth',\n",
       " 'John Tsoukalis',\n",
       " 'Kai Van Horn',\n",
       " 'Zhen Wang',\n",
       " 'Gina Waterfield',\n",
       " 'Penelope Wilson',\n",
       " 'Yingxia Yang',\n",
       " 'Marek Zapletal']"
      ]
     },
     "execution_count": 264,
     "metadata": {},
     "output_type": "execute_result"
    }
   ],
   "source": [
    "name = [' '.join(prof.find('div',{'class':'name'}).text.split())  for prof in detail]\n",
    "title = [' '.join(prof.find('div',{'class':'title'}).text.split())  for prof in detail]\n",
    "print('name: '+str(len(name)))\n",
    "print('title: '+str(len(title)))\n",
    "name[170:]"
   ]
  },
  {
   "cell_type": "code",
   "execution_count": 291,
   "metadata": {
    "collapsed": false
   },
   "outputs": [
    {
     "name": "stdout",
     "output_type": "stream",
     "text": [
      "184\n",
      "<td class=\"photo\">\n",
      "<a href=\"/experts/yingxia-yang\"><img alt=\"Yang71\" src=\"/system/experts/photo_searches/000/000/147/default/Yang71.jpg?1378833182\"/></a>\n",
      "</td>\n",
      "51\n",
      "65\n",
      "71\n",
      "72\n",
      "73\n",
      "74\n",
      "75\n",
      "76\n",
      "77\n",
      "78\n",
      "79\n",
      "80\n",
      "81\n",
      "82\n",
      "83\n",
      "84\n",
      "86\n",
      "88\n",
      "89\n",
      "90\n",
      "91\n",
      "92\n",
      "93\n",
      "94\n",
      "95\n",
      "96\n",
      "97\n",
      "98\n",
      "99\n",
      "100\n",
      "101\n",
      "102\n",
      "103\n",
      "104\n",
      "105\n",
      "106\n",
      "107\n",
      "108\n",
      "109\n",
      "110\n",
      "111\n",
      "112\n",
      "113\n",
      "114\n",
      "115\n",
      "116\n",
      "117\n",
      "118\n",
      "119\n",
      "120\n",
      "121\n",
      "124\n",
      "158\n",
      "167\n",
      "172\n",
      "175\n"
     ]
    },
    {
     "data": {
      "text/plain": [
       "128"
      ]
     },
     "execution_count": 291,
     "metadata": {},
     "output_type": "execute_result"
    }
   ],
   "source": [
    "photo = []\n",
    "view = soup.findAll('td',{'class':'photo'})\n",
    "print (len(view))\n",
    "print(view[-2])\n",
    "\n",
    "for i in range(len(view)):\n",
    "    try:\n",
    "        photo.append('http://www.brattle.com'+view[i].find('img').get('src'))\n",
    "    except:\n",
    "        print(i)\n",
    "        pass\n",
    "len(photo)"
   ]
  },
  {
   "cell_type": "code",
   "execution_count": 290,
   "metadata": {
    "collapsed": false
   },
   "outputs": [
    {
     "name": "stdout",
     "output_type": "stream",
     "text": [
      "Abere_068\n",
      "Arthur_056\n",
      "Austin_Smith\n",
      "Bagci\n",
      "Bazelon_066\n",
      "Belanger_053\n",
      "Berkman_068\n",
      "Borucki_113\n",
      "Broehm_076\n",
      "thebrattlegroup_tobybrown_IMG_4852\n",
      "Caldwell_3\n",
      "Cameron_063\n",
      "Carpenter_063\n",
      "Metin_087\n",
      "Chang_037\n",
      "Chodorow_075\n",
      "Chupka_090\n",
      "Cohen_065\n",
      "\n",
      "Duplantis_web\n",
      "Faruqui_web\n",
      "Garcia_084\n",
      "LoannisGkatzimas_\n",
      "webrichgoldberg_IMG_4749\n",
      "Graves_060\n",
      "Hanser_080\n",
      "Harris_129\n",
      "Herscovici_087\n",
      "Hesmondhalgh_086\n",
      "\n",
      "ryanhledik_IMG_4596\n",
      "Lapuerta_103pp\n",
      "Laursen_cropped_for_web_search\n",
      "0107_1_\n",
      "Levine_056A\n",
      "Levy_080\n",
      "AdoriaLim402\n",
      "Lo_Passo\n",
      "Maniatis_073\n",
      "Marin_083\n",
      "DanMcFadden557\n",
      "Mudge_129\n",
      "Murphy_038\n",
      "Myers_036\n",
      "Neels_241\n",
      "\n",
      "\n",
      "Oldfield_098-1\n",
      "Pfeifenberger_034_edited\n",
      "Read_050\n",
      "Reitzes_067\n",
      "Sacks_124\n",
      "Sarro_061\n",
      "Shavel_087\n",
      "Spees_13A\n",
      "davesunding_IMG_4729\n",
      "Taylor_066\n",
      "Tsuchida_084\n",
      "Vilbert_119\n",
      "Villadsen_048\n",
      "Voetmann_055\n",
      "Jurgen_Weiss0492\n",
      "Zarakas_092\n",
      "Zhou_082\n",
      "Kolbe_092\n",
      "Tye_Web\n",
      "Wharton_123\n",
      "Wilson_057\n",
      "Wise_Website\n",
      "Fox-Penner_131\n",
      "gans_photo_search\n",
      "Cleary_082\n",
      "Gaynor_044\n",
      "Aharonian_077\n",
      "Aydin_087\n",
      "web_photo_December_20155\n",
      "0265_1_\n",
      "0225_1_\n",
      "Fantini\n",
      "Geronimo_062\n",
      "24-Edit_2\n",
      "Kumar_066\n",
      "Lessem_054\n",
      "McKnight-David-0034\n",
      "Polek_083\n",
      "0014_1_\n",
      "Ruiz_065\n",
      "Sergici_102\n",
      "Seth_083\n",
      "Thapa_112\n",
      "Verlinda_Web\n",
      "Barza\n",
      "\n",
      "Bonetti19\n",
      "Bressan_Web\n",
      "Carroll_068\n",
      "Cheng_041\n",
      "Tim_Chezar_07_final\n",
      "Chou_web_photo_December_2015\n",
      "DeFonseka_041\n",
      "Pearl_Donohoo-Vallet_14\n",
      "Popescu_web_photo_December_20152\n",
      "Duh_080-1\n",
      "\n",
      "Ghayad_058\n",
      "Gibbons_034\n",
      "Lea_Grausz_cropped_for_web\n",
      "Gresham_145\n",
      "Hagerty_043\n",
      "Harris_127\n",
      "Hutchings_063\n",
      "Li_060\n",
      "Lueken_053\n",
      "Luo_071\n",
      "Nunez_Web\n",
      "DL_Oates_14\n",
      "_MG_5516_final\n",
      "Rogers_070\n",
      "Sheilendranath_35A\n",
      "Stirzaker\n",
      "Tolleth19\n",
      "10\n",
      "Kai_Van_Horn_09\n",
      "Wang_Z_087\n",
      "Gina_Waterfield_132\n",
      "\n",
      "Yang71\n",
      "Zapletal_101\n"
     ]
    }
   ],
   "source": [
    "for p in photo:\n",
    "    name = ' '.join(re.findall(\"default/(.*).jpg\",p))\n",
    "    name = name.replace(\"_pp\",\"\")\n",
    "    name = name.replace(\"_new\",\"\")\n",
    "    print(name)\n",
    "    urlretrieve(p,str(name)+'.jpg')"
   ]
  },
  {
   "cell_type": "code",
   "execution_count": 287,
   "metadata": {
    "collapsed": false
   },
   "outputs": [
    {
     "data": {
      "text/plain": [
       "str"
      ]
     },
     "execution_count": 287,
     "metadata": {},
     "output_type": "execute_result"
    }
   ],
   "source": [
    "type(name)"
   ]
  },
  {
   "cell_type": "code",
   "execution_count": 142,
   "metadata": {
    "collapsed": false
   },
   "outputs": [],
   "source": [
    "# office_list = []\n",
    "# link = ['http://www.brattle.com'+prof.find('a').get('href') for prof in detail]\n",
    "# try:\n",
    "#     for l in link:\n",
    "#         html = urlopen(l).read()\n",
    "#         soup = BeautifulSoup(html,\"html.parser\")\n",
    "#         office = soup.find('div',{'class':'office'}).text\n",
    "#         office_list.append(office)\n",
    "# except:\n",
    "#     office_list.append(\"No location\")"
   ]
  },
  {
   "cell_type": "code",
   "execution_count": 148,
   "metadata": {
    "collapsed": false
   },
   "outputs": [],
   "source": [
    "x = np.array([name, title], dtype=object)\n",
    "d = list(map(list, zip(*x)))\n",
    "p = pd.DataFrame(d)\n",
    "p.columns = [\"Name\", \"Title\"]"
   ]
  },
  {
   "cell_type": "raw",
   "metadata": {},
   "source": [
    "\n"
   ]
  },
  {
   "cell_type": "code",
   "execution_count": null,
   "metadata": {
    "collapsed": true
   },
   "outputs": [],
   "source": []
  }
 ],
 "metadata": {
  "kernelspec": {
   "display_name": "Python 3",
   "language": "python",
   "name": "python3"
  },
  "language_info": {
   "codemirror_mode": {
    "name": "ipython",
    "version": 3
   },
   "file_extension": ".py",
   "mimetype": "text/x-python",
   "name": "python",
   "nbconvert_exporter": "python",
   "pygments_lexer": "ipython3",
   "version": "3.5.0"
  }
 },
 "nbformat": 4,
 "nbformat_minor": 0
}
